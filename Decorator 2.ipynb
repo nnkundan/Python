{
 "cells": [
  {
   "cell_type": "code",
   "execution_count": 23,
   "id": "3e75506c",
   "metadata": {},
   "outputs": [],
   "source": [
    "# 1st method"
   ]
  },
  {
   "cell_type": "code",
   "execution_count": 24,
   "id": "2f9475bf",
   "metadata": {},
   "outputs": [],
   "source": [
    "def calc_square(numbers):\n",
    "    result = []\n",
    "    for number in numbers:\n",
    "        result.append(number*number)\n",
    "    return result\n",
    "def calc_cube(numbers):\n",
    "    result = []\n",
    "    for number in numbers:\n",
    "        result.append(number*number*number)\n",
    "    return result\n",
    "array = range(1,100000)\n",
    "out_square = calc_square(array)\n",
    "out_cube = calc_cube(array)"
   ]
  },
  {
   "cell_type": "code",
   "execution_count": 25,
   "id": "46efb5a7",
   "metadata": {},
   "outputs": [],
   "source": [
    "# 2nd Method"
   ]
  },
  {
   "cell_type": "code",
   "execution_count": 26,
   "id": "151986cb",
   "metadata": {},
   "outputs": [
    {
     "name": "stdout",
     "output_type": "stream",
     "text": [
      "calc_square took 6.997823715209961millisecond\n",
      "calc_cube took 11.033773422241211millisecond\n"
     ]
    }
   ],
   "source": [
    "import time\n",
    "def calc_square(numbers):\n",
    "    start = time.time()\n",
    "    result = []\n",
    "    for number in numbers:\n",
    "        result.append(number*number)\n",
    "    end = time.time()\n",
    "    print(\"calc_square took \" + str((end-start)*1000)+\"millisecond\")\n",
    "    return result\n",
    "def calc_cube(numbers):\n",
    "    start = time.time()\n",
    "    result = []\n",
    "    for number in numbers:\n",
    "        result.append(number*number*number)\n",
    "    end = time.time()\n",
    "    print(\"calc_cube took \" + str((end-start)*1000)+\"millisecond\")\n",
    "    return result\n",
    "array = range(1,100000)\n",
    "out_square = calc_square(array)\n",
    "out_cube = calc_cube(array)"
   ]
  },
  {
   "cell_type": "code",
   "execution_count": 27,
   "id": "febdf88a",
   "metadata": {},
   "outputs": [],
   "source": [
    "# 3rd Method"
   ]
  },
  {
   "cell_type": "code",
   "execution_count": 28,
   "id": "2ba196c8",
   "metadata": {},
   "outputs": [
    {
     "name": "stdout",
     "output_type": "stream",
     "text": [
      "calc_square took 6.992816925048828mil sec\n",
      "calc_cube took 9.999752044677734mil sec\n"
     ]
    }
   ],
   "source": [
    "import time\n",
    "def time_it(func):\n",
    "    def wrapper(*args, **kwargs):\n",
    "        start = time.time()\n",
    "        result = func(*args,**kwargs)\n",
    "        end = time.time()\n",
    "        print(func.__name__ +\" took \" + str((end-start)*1000) + \"mil sec\")\n",
    "        return result\n",
    "    return wrapper\n",
    "\n",
    "@time_it\n",
    "def calc_square(numbers):\n",
    "    result = []\n",
    "    for number in numbers:\n",
    "        result.append(number*number)\n",
    "    return result\n",
    "\n",
    "@time_it\n",
    "def calc_cube(numbers):\n",
    "    result = []\n",
    "    for number in numbers:\n",
    "        result.append(number*number*number)\n",
    "    return result\n",
    "\n",
    "array = range(1,100000)\n",
    "out_square = calc_square(array)\n",
    "out_cube = calc_cube(array)"
   ]
  },
  {
   "cell_type": "markdown",
   "id": "ac6cf62d",
   "metadata": {},
   "source": [
    "#  Application of decorator\n",
    "timing, logging, we can avoid repetitive code duplication by using decorator"
   ]
  },
  {
   "cell_type": "code",
   "execution_count": null,
   "id": "cc7853e2",
   "metadata": {},
   "outputs": [],
   "source": []
  }
 ],
 "metadata": {
  "kernelspec": {
   "display_name": "Python 3",
   "language": "python",
   "name": "python3"
  },
  "language_info": {
   "codemirror_mode": {
    "name": "ipython",
    "version": 3
   },
   "file_extension": ".py",
   "mimetype": "text/x-python",
   "name": "python",
   "nbconvert_exporter": "python",
   "pygments_lexer": "ipython3",
   "version": "3.8.8"
  }
 },
 "nbformat": 4,
 "nbformat_minor": 5
}
