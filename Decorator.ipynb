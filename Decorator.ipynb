{
 "cells": [
  {
   "cell_type": "code",
   "execution_count": 28,
   "id": "4022a543",
   "metadata": {},
   "outputs": [],
   "source": [
    "def A():\n",
    "    return 'a'\n",
    "def B():\n",
    "    return 'b'\n",
    "def X(kuch_bhi):\n",
    "    print(\"x kuch bhi\")\n",
    "    print(kuch_bhi())"
   ]
  },
  {
   "cell_type": "code",
   "execution_count": 29,
   "id": "9e18cfa6",
   "metadata": {},
   "outputs": [
    {
     "name": "stdout",
     "output_type": "stream",
     "text": [
      "x kuch bhi\n",
      "b\n"
     ]
    }
   ],
   "source": [
    "X(B)"
   ]
  },
  {
   "cell_type": "code",
   "execution_count": 30,
   "id": "9e24ffef",
   "metadata": {},
   "outputs": [],
   "source": [
    "def A_dec(kuch_bhi):\n",
    "    def B_1():\n",
    "        print(\"b_1\")\n",
    "        kuch_bhi()\n",
    "        print(\"code execute after kuch_bhi func\")\n",
    "    return B_1\n",
    "def B_need_dec():\n",
    "    print(\"This func need decorator\")"
   ]
  },
  {
   "cell_type": "code",
   "execution_count": 31,
   "id": "c22e571a",
   "metadata": {},
   "outputs": [
    {
     "name": "stdout",
     "output_type": "stream",
     "text": [
      "This func need decorator\n"
     ]
    }
   ],
   "source": [
    "B_need_dec()"
   ]
  },
  {
   "cell_type": "code",
   "execution_count": 32,
   "id": "0650d5c2",
   "metadata": {},
   "outputs": [],
   "source": [
    "# Reassign B_need_dec\n",
    "B_need_dec=A_dec(B_need_dec)"
   ]
  },
  {
   "cell_type": "code",
   "execution_count": 33,
   "id": "2e0ff0fe",
   "metadata": {},
   "outputs": [
    {
     "name": "stdout",
     "output_type": "stream",
     "text": [
      "b_1\n",
      "This func need decorator\n",
      "code execute after kuch_bhi func\n"
     ]
    }
   ],
   "source": [
    "B_need_dec()"
   ]
  },
  {
   "cell_type": "code",
   "execution_count": 34,
   "id": "68a9ab9f",
   "metadata": {},
   "outputs": [],
   "source": [
    "@A_dec\n",
    "def C_need_dec():\n",
    "    print(\"This func need decorator2\")"
   ]
  },
  {
   "cell_type": "code",
   "execution_count": 35,
   "id": "cb7a699d",
   "metadata": {},
   "outputs": [
    {
     "name": "stdout",
     "output_type": "stream",
     "text": [
      "b_1\n",
      "This func need decorator2\n",
      "code execute after kuch_bhi func\n"
     ]
    }
   ],
   "source": [
    "C_need_dec()"
   ]
  },
  {
   "cell_type": "code",
   "execution_count": 36,
   "id": "0a9ee700",
   "metadata": {},
   "outputs": [
    {
     "data": {
      "text/plain": [
       "'C:\\\\Users\\\\u1133148\\\\OneDrive - IQVIA\\\\Python Learning'"
      ]
     },
     "execution_count": 36,
     "metadata": {},
     "output_type": "execute_result"
    }
   ],
   "source": [
    "pwd"
   ]
  },
  {
   "cell_type": "code",
   "execution_count": null,
   "id": "e49db86f",
   "metadata": {},
   "outputs": [],
   "source": []
  }
 ],
 "metadata": {
  "kernelspec": {
   "display_name": "Python 3",
   "language": "python",
   "name": "python3"
  },
  "language_info": {
   "codemirror_mode": {
    "name": "ipython",
    "version": 3
   },
   "file_extension": ".py",
   "mimetype": "text/x-python",
   "name": "python",
   "nbconvert_exporter": "python",
   "pygments_lexer": "ipython3",
   "version": "3.8.8"
  }
 },
 "nbformat": 4,
 "nbformat_minor": 5
}
