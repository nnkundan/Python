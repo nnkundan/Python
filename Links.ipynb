{
 "cells": [
  {
   "cell_type": "markdown",
   "id": "6daf1482",
   "metadata": {},
   "source": [
    "https://github.com/Pierian-Data"
   ]
  },
  {
   "cell_type": "markdown",
   "id": "61bc27b8",
   "metadata": {},
   "source": [
    "https://github.com/Pierian-Data/Complete-Python-3-Bootcamp"
   ]
  },
  {
   "cell_type": "markdown",
   "id": "9b6579ad",
   "metadata": {},
   "source": [
    "# Decorator"
   ]
  },
  {
   "cell_type": "markdown",
   "id": "d334b1dd",
   "metadata": {},
   "source": [
    "https://www.youtube.com/watch?v=nYDKH9fvlBY"
   ]
  },
  {
   "cell_type": "code",
   "execution_count": null,
   "id": "5f19c2c3",
   "metadata": {},
   "outputs": [],
   "source": []
  }
 ],
 "metadata": {
  "kernelspec": {
   "display_name": "Python 3",
   "language": "python",
   "name": "python3"
  },
  "language_info": {
   "codemirror_mode": {
    "name": "ipython",
    "version": 3
   },
   "file_extension": ".py",
   "mimetype": "text/x-python",
   "name": "python",
   "nbconvert_exporter": "python",
   "pygments_lexer": "ipython3",
   "version": "3.8.8"
  }
 },
 "nbformat": 4,
 "nbformat_minor": 5
}
